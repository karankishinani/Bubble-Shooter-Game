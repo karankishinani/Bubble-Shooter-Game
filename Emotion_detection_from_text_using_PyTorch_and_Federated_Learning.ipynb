{
  "nbformat": 4,
  "nbformat_minor": 0,
  "metadata": {
    "colab": {
      "name": "Emotion detection from text using PyTorch and Federated Learning.ipynb",
      "version": "0.3.2",
      "provenance": [],
      "collapsed_sections": [],
      "machine_shape": "hm",
      "include_colab_link": true
    },
    "kernelspec": {
      "name": "python3",
      "display_name": "Python 3"
    }
  },
  "cells": [
    {
      "cell_type": "markdown",
      "metadata": {
        "id": "view-in-github",
        "colab_type": "text"
      },
      "source": [
        "<a href=\"https://colab.research.google.com/github/karankishinani/Bubble-Shooter-Game/blob/master/Emotion_detection_from_text_using_PyTorch_and_Federated_Learning.ipynb\" target=\"_parent\"><img src=\"https://colab.research.google.com/assets/colab-badge.svg\" alt=\"Open In Colab\"/></a>"
      ]
    },
    {
      "cell_type": "markdown",
      "metadata": {
        "id": "rufFNufqDmUO",
        "colab_type": "text"
      },
      "source": [
        "# Emotion detection from text using PyTorch and Federated Learning\n",
        "\n",
        "For this project, we are going to implement an NLP task of creating a model to detect the emotion from text. We will develop this using the PyTorch library and the Federated Learning framework for decentralized training. \n",
        "\n",
        "We will create an emotion detection for the following 5 emotions:\n",
        "\n",
        "| Emotion | Emoji   | Label   |\n",
        "|------|------|------|\n",
        "|Loving| ❤️| 0|\n",
        "|Playful| ⚽️| 1|\n",
        "|Happy| 😄| 2|\n",
        "|Annoyed| 😞| 3|\n",
        "|Foodie| 🍽| 4|\n",
        "\n",
        "## Dataset\n",
        "\n",
        "We will work with a dataset (X, Y) where we have:\n",
        "*   X contains 127 sentences\n",
        "*   Y contains a label between [0, 4] corresponding to the emotion\n",
        "\n",
        "For example:\n",
        "\n",
        "| Sentence | Emotion   |\n",
        "|----------|-----------|\n",
        "|food is life|  🍽 Foodie|\n",
        "|I love you mum|  ❤️ Loving|\n",
        "|Stop saying bullshit|  😞 Annoyed|\n",
        "|congratulations on your acceptance|  😄 Happy|\n",
        "|The assignment is too long|    😞 Annoyed|\n",
        "|I want to go play| ⚽️ Playful|\n",
        "|she did not answer my text| 😞 Annoyed|\n",
        "|Your stupidity has no limit| 😞 Annoyed|\n",
        "|how many points did he score|  ⚽️ Playful|\n",
        "|my algorithm performs poorly| 😞 Annoyed|\n",
        "|I got approved|  😄 Happy|\n",
        "\n",
        "## The Model\n",
        "We will build an LSTM model that takes as input word sequences that will take word ordering into account. We will use 50-dimensional [GloVe](https://nlp.stanford.edu/projects/glove/) pre-trained word embeddings to represent words. We will then feed those as an input into an LSTM that will predict the most appropiate emotion for the text. \n",
        "\n",
        "![alt text](https://drive.google.com/uc?id=1s-KYhU5JWF-jvAlZ2MIKKugxLLDdhpQP)\n"
      ]
    },
    {
      "cell_type": "code",
      "metadata": {
        "id": "GQn1wO2qr01C",
        "colab_type": "code",
        "colab": {}
      },
      "source": [
        "import numpy as np\n",
        "import pandas as pd\n",
        "import matplotlib.pyplot as plt\n",
        "import csv\n",
        "import torch\n",
        "import torch.nn as nn\n",
        "import torch.nn.functional as F\n",
        "import torch.optim as optim"
      ],
      "execution_count": 0,
      "outputs": []
    },
    {
      "cell_type": "code",
      "metadata": {
        "id": "zJcTk7DnfXRx",
        "colab_type": "code",
        "outputId": "090a75eb-7d6e-480c-bef6-8c660ddd76a3",
        "colab": {
          "base_uri": "https://localhost:8080/",
          "height": 310
        }
      },
      "source": [
        "from google.colab import drive\n",
        "drive.mount('/content/drive')"
      ],
      "execution_count": 2,
      "outputs": [
        {
          "output_type": "stream",
          "text": [
            "Go to this URL in a browser: https://accounts.google.com/o/oauth2/auth?client_id=947318989803-6bn6qk8qdgf4n4g3pfee6491hc0brc4i.apps.googleusercontent.com&redirect_uri=urn%3Aietf%3Awg%3Aoauth%3A2.0%3Aoob&scope=email%20https%3A%2F%2Fwww.googleapis.com%2Fauth%2Fdocs.test%20https%3A%2F%2Fwww.googleapis.com%2Fauth%2Fdrive%20https%3A%2F%2Fwww.googleapis.com%2Fauth%2Fdrive.photos.readonly%20https%3A%2F%2Fwww.googleapis.com%2Fauth%2Fpeopleapi.readonly&response_type=code\n",
            "\n",
            "Enter your authorization code:\n",
            "··········\n",
            "Mounted at /content/drive\n"
          ],
          "name": "stdout"
        }
      ]
    },
    {
      "cell_type": "code",
      "metadata": {
        "id": "d04n5XXyf5Cj",
        "colab_type": "code",
        "colab": {}
      },
      "source": [
        "# HELPER FUNCTIONS\n",
        "\n",
        "def read_glove_vecs(glove_file):\n",
        "    with open(glove_file, 'r') as f:\n",
        "        words = set()\n",
        "        word_to_vec_map = {}\n",
        "        for line in f:\n",
        "            line = line.strip().split()\n",
        "            curr_word = line[0]\n",
        "            words.add(curr_word)\n",
        "            word_to_vec_map[curr_word] = np.array(line[1:], dtype=np.float64)\n",
        "        \n",
        "        i = 1\n",
        "        words_to_index = {}\n",
        "        index_to_words = {}\n",
        "        for w in sorted(words):\n",
        "            words_to_index[w] = i\n",
        "            index_to_words[i] = w\n",
        "            i = i + 1\n",
        "    return words_to_index, index_to_words, word_to_vec_map\n",
        "\n",
        "def convert_to_one_hot(Y, C):\n",
        "    Y = np.eye(C)[Y.reshape(-1)]\n",
        "    return Y\n",
        "\n",
        "def read_csv(filename):\n",
        "    phrase = []\n",
        "    emoji = []\n",
        "\n",
        "    with open (filename) as csvDataFile:\n",
        "        csvReader = csv.reader(csvDataFile)\n",
        "\n",
        "        for row in csvReader:\n",
        "            phrase.append(row[0])\n",
        "            emoji.append(row[1])\n",
        "\n",
        "    X = np.asarray(phrase)\n",
        "    Y = np.asarray(emoji, dtype=int)\n",
        "\n",
        "    return X, Y"
      ],
      "execution_count": 0,
      "outputs": []
    },
    {
      "cell_type": "code",
      "metadata": {
        "id": "RmqjSlwofS_i",
        "colab_type": "code",
        "colab": {}
      },
      "source": [
        "X_train, Y_train = read_csv('/content/drive/My Drive/Colab Notebooks/data/train_emoji.csv')\n",
        "X_test, Y_test = read_csv('/content/drive/My Drive/Colab Notebooks/data/tesss.csv')"
      ],
      "execution_count": 0,
      "outputs": []
    },
    {
      "cell_type": "code",
      "metadata": {
        "id": "Gt5z5eqVih4i",
        "colab_type": "code",
        "colab": {}
      },
      "source": [
        "Y_oh_train = convert_to_one_hot(Y_train, C = 5)\n",
        "Y_oh_test = convert_to_one_hot(Y_test, C = 5)"
      ],
      "execution_count": 0,
      "outputs": []
    },
    {
      "cell_type": "code",
      "metadata": {
        "id": "jDe5vX3qiYcB",
        "colab_type": "code",
        "colab": {}
      },
      "source": [
        "word_to_index, index_to_word, word_to_vec_map = read_glove_vecs('/content/drive/My Drive/Colab Notebooks/data/glove.6B.50d.txt')"
      ],
      "execution_count": 0,
      "outputs": []
    },
    {
      "cell_type": "code",
      "metadata": {
        "id": "fh0iyxn_jDCR",
        "colab_type": "code",
        "colab": {}
      },
      "source": [
        "def sentences_to_indices(X, word_to_index, max_len):\n",
        "    \"\"\"\n",
        "    Converts an array of sentences (strings) into an array of indices corresponding to words in the sentences.\n",
        "    \"\"\"\n",
        "    \n",
        "    m = X.shape[0]  # number of training examples\n",
        "    \n",
        "    # Initialize X_indices as a numpy matrix of zeros and the correct shape\n",
        "    X_indices = np.zeros((m,max_len))\n",
        "    \n",
        "    for i in range(m):  # loop over training examples\n",
        "        \n",
        "        # Convert the ith sentence in lower case and split into a list of words\n",
        "        sentence_words = X[i].lower().split()\n",
        "        \n",
        "        # Initialize j to 0\n",
        "        j = 0\n",
        "        \n",
        "        # Loop over the words of sentence_words\n",
        "        for w in sentence_words:\n",
        "            # Set the (i,j)th entry of X_indices to the index of the correct word.\n",
        "            X_indices[i, j] = word_to_index[w]\n",
        "            # Increment j to j + 1\n",
        "            j = j + 1\n",
        "    \n",
        "    return X_indices"
      ],
      "execution_count": 0,
      "outputs": []
    },
    {
      "cell_type": "code",
      "metadata": {
        "id": "LLyIs_aFjdfl",
        "colab_type": "code",
        "outputId": "9cb845ea-685c-4ef6-a6b1-2d9e4c86ab56",
        "colab": {
          "base_uri": "https://localhost:8080/",
          "height": 106
        }
      },
      "source": [
        "X1 = np.array([\"lol\", \"I love you\", \"this is very yummy\"])\n",
        "X1_indices = sentences_to_indices(X1,word_to_index, max_len = 5)\n",
        "print(\"X1 =\", X1)\n",
        "print(\"X1_indices =\", X1_indices)"
      ],
      "execution_count": 8,
      "outputs": [
        {
          "output_type": "stream",
          "text": [
            "X1 = ['lol' 'I love you' 'this is very yummy']\n",
            "X1_indices = [[225122.      0.      0.      0.      0.]\n",
            " [185457. 226278. 394475.      0.      0.]\n",
            " [358160. 192973. 377946. 394957.      0.]]\n"
          ],
          "name": "stdout"
        }
      ]
    },
    {
      "cell_type": "markdown",
      "metadata": {
        "id": "UMKHhghrWcNn",
        "colab_type": "text"
      },
      "source": [
        "## Defining the Network using Pretrained Embedding Layer using GloVe Word Embeddings"
      ]
    },
    {
      "cell_type": "code",
      "metadata": {
        "id": "JZDWRfRkWhwB",
        "colab_type": "code",
        "colab": {}
      },
      "source": [
        "class NN(nn.Module):\n",
        "  def __init__(self, embedding, embedding_dim, hidden_dim, vocab_size, output_dim, batch_size):\n",
        "      super(NN, self).__init__()\n",
        "\n",
        "      self.batch_size = batch_size\n",
        "\n",
        "      self.hidden_dim = hidden_dim\n",
        "\n",
        "      self.word_embeddings = embedding\n",
        "\n",
        "      # The LSTM takes word embeddings as inputs, and outputs hidden states\n",
        "      # with dimensionality hidden_dim.\n",
        "      self.lstm = nn.LSTM(embedding_dim, \n",
        "                          hidden_dim, \n",
        "                          num_layers=2,\n",
        "                          dropout = 0.5,\n",
        "                          batch_first = True)\n",
        "\n",
        "      # The linear layer that maps from hidden state space to output space\n",
        "      self.fc = nn.Linear(hidden_dim, output_dim)\n",
        "\n",
        "  def forward(self, sentence):\n",
        "      \n",
        "      sentence = sentence.type(torch.LongTensor)\n",
        "      #print ('Shape of sentence is:', sentence.shape)\n",
        "\n",
        "      embeds = self.word_embeddings(sentence)\n",
        "      #print ('Embedding layer output shape', embeds.shape)\n",
        "\n",
        "      # initializing the hidden state to 0\n",
        "      hidden=None\n",
        "      lstm_out, h = self.lstm(embeds, hidden)\n",
        "      # get info from last timestep only\n",
        "      lstm_out = lstm_out[:, -1, :]\n",
        "      #print ('LSTM layer output shape', lstm_out.shape)\n",
        "      #print ('LSTM layer output ', lstm_out)\n",
        "\n",
        "      # Dropout\n",
        "      lstm_out = F.dropout(lstm_out, 0.5)\n",
        "\n",
        "      fc_out = self.fc(lstm_out)\n",
        "      #print ('FC layer output shape', fc_out.shape)\n",
        "      #print ('FC layer output ', fc_out)\n",
        "      \n",
        "      out = fc_out\n",
        "      out = F.softmax(out, dim=1)\n",
        "      #print ('Output layer output shape', out.shape)\n",
        "      #print ('Output layer output ', out)\n",
        "      return out\n",
        "  "
      ],
      "execution_count": 0,
      "outputs": []
    },
    {
      "cell_type": "markdown",
      "metadata": {
        "id": "QK1Bty6f5yQ3",
        "colab_type": "text"
      },
      "source": [
        "## Creating the Glove Embedding Layer"
      ]
    },
    {
      "cell_type": "code",
      "metadata": {
        "id": "g-UcwaXPgZyj",
        "colab_type": "code",
        "colab": {}
      },
      "source": [
        "def pretrained_embedding_layer(word_to_vec_map, word_to_index, non_trainable=True):\n",
        "    num_embeddings = len(word_to_index) + 1                   \n",
        "    embedding_dim = word_to_vec_map[\"cucumber\"].shape[0]  #  dimensionality of GloVe word vectors (= 50)\n",
        "\n",
        "    # Initialize the embedding matrix as a numpy array of zeros of shape (num_embeddings, embedding_dim)\n",
        "    weights_matrix = np.zeros((num_embeddings, embedding_dim))\n",
        "\n",
        "    # Set each row \"index\" of the embedding matrix to be the word vector representation of the \"index\"th word of the vocabulary\n",
        "    for word, index in word_to_index.items():\n",
        "        weights_matrix[index, :] = word_to_vec_map[word]\n",
        "\n",
        "    embed = nn.Embedding.from_pretrained(torch.from_numpy(weights_matrix).type(torch.FloatTensor), freeze=non_trainable)#(num_embeddings, embedding_dim)\n",
        "    # pretrained_weight is a numpy matrix of shape (num_embeddings, embedding_dim)\n",
        "    #embed.weight.data.copy_(torch.from_numpy(weights_matrix).type(torch.FloatTensor))\n",
        "\n",
        "    #emb_layer = nn.Embedding.from_pretrained(torch.tensor(weights_matrix).type(torch.FloatTensor))\n",
        "\n",
        "    #if non_trainable:\n",
        "        #embed.weight.requires_grad = False\n",
        "\n",
        "    return embed, num_embeddings, embedding_dim\n"
      ],
      "execution_count": 0,
      "outputs": []
    },
    {
      "cell_type": "markdown",
      "metadata": {
        "id": "C7urFqpr5ntp",
        "colab_type": "text"
      },
      "source": [
        "## Training the model"
      ]
    },
    {
      "cell_type": "code",
      "metadata": {
        "id": "BEkK7S6v8dVk",
        "colab_type": "code",
        "colab": {}
      },
      "source": [
        "device = torch.device(\"cuda:0\" if torch.cuda.is_available() else \"cpu\")\n",
        "\n",
        "def train(model, trainloader, criterion, optimizer, epochs=10):\n",
        "    \n",
        "    model.to(device)\n",
        "    running_loss = 0\n",
        "    \n",
        "    train_losses, test_losses, accuracies = [], [], []\n",
        "    for e in range(epochs):\n",
        "\n",
        "        running_loss = 0\n",
        "        \n",
        "        model.train()\n",
        "        \n",
        "        for sentences, labels in trainloader:\n",
        "\n",
        "            sentences, labels = sentences.to(device), labels.to(device)\n",
        "\n",
        "            # 1) erase previous gradients (if they exist)\n",
        "            optimizer.zero_grad()\n",
        "\n",
        "            # 2) make a prediction\n",
        "            pred = model.forward(sentences)\n",
        "\n",
        "            # 3) calculate how much we missed\n",
        "            loss = criterion(pred, labels)\n",
        "\n",
        "            # 4) figure out which weights caused us to miss\n",
        "            loss.backward()\n",
        "\n",
        "            # 5) change those weights\n",
        "            optimizer.step()\n",
        "\n",
        "            # 6) log our progress\n",
        "            running_loss += loss.item()\n",
        "        \n",
        "        \n",
        "        else:\n",
        "\n",
        "          model.eval()\n",
        "\n",
        "          test_loss = 0\n",
        "          accuracy = 0\n",
        "          \n",
        "          # Turn off gradients for validation, saves memory and computations\n",
        "          with torch.no_grad():\n",
        "              for sentences, labels in test_loader:\n",
        "                  log_ps = model(sentences)\n",
        "                  test_loss += criterion(log_ps, labels)\n",
        "                  \n",
        "                  ps = torch.exp(log_ps)\n",
        "                  top_p, top_class = ps.topk(1, dim=1)\n",
        "                  equals = top_class == labels.view(*top_class.shape)\n",
        "                  accuracy += torch.mean(equals.type(torch.FloatTensor))\n",
        "                  \n",
        "          train_losses.append(running_loss/len(train_loader))\n",
        "          test_losses.append(test_loss/len(test_loader))\n",
        "          accuracies.append(accuracy / len(test_loader) * 100)\n",
        "\n",
        "          print(\"Epoch: {}/{}.. \".format(e+1, epochs),\n",
        "                \"Training Loss: {:.3f}.. \".format(running_loss/len(train_loader)),\n",
        "                \"Test Loss: {:.3f}.. \".format(test_loss/len(test_loader)),\n",
        "                \"Test Accuracy: {:.3f}\".format(accuracy/len(test_loader)))\n",
        "        \n",
        "    # Plot\n",
        "    plt.figure(figsize=(20, 5))\n",
        "    plt.plot(train_losses, c='b', label='Training loss')\n",
        "    plt.plot(test_losses, c='r', label='Testing loss')\n",
        "    plt.xticks(np.arange(0, epochs))\n",
        "    plt.title('Losses')\n",
        "    plt.legend(loc='upper right')\n",
        "    plt.show()\n",
        "    plt.figure(figsize=(20, 5))\n",
        "    plt.plot(accuracies)\n",
        "    plt.xticks(np.arange(0, epochs))\n",
        "    plt.title('Accuracy')\n",
        "    plt.show()\n",
        "         \n",
        "\n"
      ],
      "execution_count": 0,
      "outputs": []
    },
    {
      "cell_type": "code",
      "metadata": {
        "id": "Fgb8si4s9Jb9",
        "colab_type": "code",
        "outputId": "238faccc-eae0-4913-c94b-a45027f027d5",
        "colab": {
          "base_uri": "https://localhost:8080/",
          "height": 1000
        }
      },
      "source": [
        "import torch.utils.data\n",
        "\n",
        "maxLen = len(max(X_train, key=len).split())\n",
        "X_train_indices = sentences_to_indices(X_train, word_to_index, maxLen)\n",
        "Y_train_oh = convert_to_one_hot(Y_train, C = 5)\n",
        "\n",
        "X_test_indices = sentences_to_indices(X_test, word_to_index, maxLen)\n",
        "Y_test_oh = convert_to_one_hot(Y_test, C = 5)\n",
        "\n",
        "embedding, vocab_size, embedding_dim = pretrained_embedding_layer(word_to_vec_map, word_to_index, non_trainable=True)\n",
        "\n",
        "hidden_dim=128\n",
        "output_size=5\n",
        "batch_size = 32\n",
        "\n",
        "#print ('Embedding layer is ', embedding)\n",
        "#print ('Embedding layer weights ', embedding.weight.shape)\n",
        "\n",
        "model = NN(embedding, embedding_dim, hidden_dim, vocab_size, output_size, batch_size)\n",
        "criterion = nn.CrossEntropyLoss()\n",
        "optimizer = optim.Adam(model.parameters(), lr=0.002)\n",
        "epochs = 50\n",
        "train_dataset = torch.utils.data.TensorDataset(torch.tensor(X_train_indices), torch.tensor(Y_train).type(torch.LongTensor))\n",
        "train_loader = torch.utils.data.DataLoader(train_dataset, batch_size=batch_size)\n",
        "\n",
        "test_dataset = torch.utils.data.TensorDataset(torch.tensor(X_test_indices), torch.tensor(Y_test).type(torch.LongTensor))\n",
        "test_loader = torch.utils.data.DataLoader(test_dataset, batch_size=batch_size)\n",
        "\n",
        "train(model, train_loader, criterion, optimizer, epochs)"
      ],
      "execution_count": 215,
      "outputs": [
        {
          "output_type": "stream",
          "text": [
            "Epoch: 1/50..  Training Loss: 1.608..  Test Loss: 1.597..  Test Accuracy: 0.323\n",
            "Epoch: 2/50..  Training Loss: 1.587..  Test Loss: 1.554..  Test Accuracy: 0.281\n",
            "Epoch: 3/50..  Training Loss: 1.568..  Test Loss: 1.536..  Test Accuracy: 0.312\n",
            "Epoch: 4/50..  Training Loss: 1.543..  Test Loss: 1.533..  Test Accuracy: 0.312\n",
            "Epoch: 5/50..  Training Loss: 1.554..  Test Loss: 1.525..  Test Accuracy: 0.391\n",
            "Epoch: 6/50..  Training Loss: 1.520..  Test Loss: 1.495..  Test Accuracy: 0.406\n",
            "Epoch: 7/50..  Training Loss: 1.473..  Test Loss: 1.482..  Test Accuracy: 0.427\n",
            "Epoch: 8/50..  Training Loss: 1.446..  Test Loss: 1.511..  Test Accuracy: 0.375\n",
            "Epoch: 9/50..  Training Loss: 1.442..  Test Loss: 1.455..  Test Accuracy: 0.432\n",
            "Epoch: 10/50..  Training Loss: 1.446..  Test Loss: 1.437..  Test Accuracy: 0.464\n",
            "Epoch: 11/50..  Training Loss: 1.390..  Test Loss: 1.439..  Test Accuracy: 0.557\n",
            "Epoch: 12/50..  Training Loss: 1.375..  Test Loss: 1.404..  Test Accuracy: 0.526\n",
            "Epoch: 13/50..  Training Loss: 1.421..  Test Loss: 1.472..  Test Accuracy: 0.453\n",
            "Epoch: 14/50..  Training Loss: 1.436..  Test Loss: 1.512..  Test Accuracy: 0.307\n",
            "Epoch: 15/50..  Training Loss: 1.439..  Test Loss: 1.453..  Test Accuracy: 0.432\n",
            "Epoch: 16/50..  Training Loss: 1.378..  Test Loss: 1.502..  Test Accuracy: 0.411\n",
            "Epoch: 17/50..  Training Loss: 1.369..  Test Loss: 1.437..  Test Accuracy: 0.474\n",
            "Epoch: 18/50..  Training Loss: 1.370..  Test Loss: 1.389..  Test Accuracy: 0.521\n",
            "Epoch: 19/50..  Training Loss: 1.273..  Test Loss: 1.372..  Test Accuracy: 0.516\n",
            "Epoch: 20/50..  Training Loss: 1.285..  Test Loss: 1.330..  Test Accuracy: 0.562\n",
            "Epoch: 21/50..  Training Loss: 1.237..  Test Loss: 1.304..  Test Accuracy: 0.630\n",
            "Epoch: 22/50..  Training Loss: 1.261..  Test Loss: 1.281..  Test Accuracy: 0.609\n",
            "Epoch: 23/50..  Training Loss: 1.213..  Test Loss: 1.352..  Test Accuracy: 0.589\n",
            "Epoch: 24/50..  Training Loss: 1.215..  Test Loss: 1.303..  Test Accuracy: 0.620\n",
            "Epoch: 25/50..  Training Loss: 1.208..  Test Loss: 1.298..  Test Accuracy: 0.625\n",
            "Epoch: 26/50..  Training Loss: 1.186..  Test Loss: 1.259..  Test Accuracy: 0.646\n",
            "Epoch: 27/50..  Training Loss: 1.160..  Test Loss: 1.229..  Test Accuracy: 0.682\n",
            "Epoch: 28/50..  Training Loss: 1.132..  Test Loss: 1.266..  Test Accuracy: 0.651\n",
            "Epoch: 29/50..  Training Loss: 1.122..  Test Loss: 1.212..  Test Accuracy: 0.661\n",
            "Epoch: 30/50..  Training Loss: 1.108..  Test Loss: 1.198..  Test Accuracy: 0.698\n",
            "Epoch: 31/50..  Training Loss: 1.064..  Test Loss: 1.188..  Test Accuracy: 0.719\n",
            "Epoch: 32/50..  Training Loss: 1.056..  Test Loss: 1.207..  Test Accuracy: 0.667\n",
            "Epoch: 33/50..  Training Loss: 1.049..  Test Loss: 1.279..  Test Accuracy: 0.604\n",
            "Epoch: 34/50..  Training Loss: 1.035..  Test Loss: 1.154..  Test Accuracy: 0.745\n",
            "Epoch: 35/50..  Training Loss: 1.053..  Test Loss: 1.154..  Test Accuracy: 0.771\n",
            "Epoch: 36/50..  Training Loss: 1.061..  Test Loss: 1.211..  Test Accuracy: 0.693\n",
            "Epoch: 37/50..  Training Loss: 1.115..  Test Loss: 1.199..  Test Accuracy: 0.714\n",
            "Epoch: 38/50..  Training Loss: 1.035..  Test Loss: 1.170..  Test Accuracy: 0.755\n",
            "Epoch: 39/50..  Training Loss: 1.056..  Test Loss: 1.276..  Test Accuracy: 0.641\n",
            "Epoch: 40/50..  Training Loss: 1.091..  Test Loss: 1.201..  Test Accuracy: 0.708\n",
            "Epoch: 41/50..  Training Loss: 0.991..  Test Loss: 1.189..  Test Accuracy: 0.714\n",
            "Epoch: 42/50..  Training Loss: 1.053..  Test Loss: 1.175..  Test Accuracy: 0.740\n",
            "Epoch: 43/50..  Training Loss: 0.999..  Test Loss: 1.225..  Test Accuracy: 0.672\n",
            "Epoch: 44/50..  Training Loss: 1.088..  Test Loss: 1.283..  Test Accuracy: 0.615\n",
            "Epoch: 45/50..  Training Loss: 1.119..  Test Loss: 1.231..  Test Accuracy: 0.698\n",
            "Epoch: 46/50..  Training Loss: 1.056..  Test Loss: 1.135..  Test Accuracy: 0.776\n",
            "Epoch: 47/50..  Training Loss: 1.000..  Test Loss: 1.126..  Test Accuracy: 0.792\n",
            "Epoch: 48/50..  Training Loss: 1.008..  Test Loss: 1.201..  Test Accuracy: 0.714\n",
            "Epoch: 49/50..  Training Loss: 1.018..  Test Loss: 1.124..  Test Accuracy: 0.792\n",
            "Epoch: 50/50..  Training Loss: 1.011..  Test Loss: 1.116..  Test Accuracy: 0.781\n"
          ],
          "name": "stdout"
        },
        {
          "output_type": "display_data",
          "data": {
            "image/png": "[encoded data removed]",
            "text/plain": [
              "<Figure size 1440x360 with 1 Axes>"
            ]
          },
          "metadata": {
            "tags": []
          }
        },
        {
          "output_type": "display_data",
          "data": {
            "image/png": "[encoded data removed]",
            "text/plain": [
              "<Figure size 1440x360 with 1 Axes>"
            ]
          },
          "metadata": {
            "tags": []
          }
        }
      ]
    },
    {
      "cell_type": "code",
      "metadata": {
        "id": "m-c_rsIk5-jD",
        "colab_type": "code",
        "colab": {}
      },
      "source": [
        ""
      ],
      "execution_count": 0,
      "outputs": []
    },
    {
      "cell_type": "markdown",
      "metadata": {
        "id": "9HHVnZ6m5_qV",
        "colab_type": "text"
      },
      "source": [
        "## Testing the Model Accuracy"
      ]
    },
    {
      "cell_type": "code",
      "metadata": {
        "id": "Vo9z4JBWARDf",
        "colab_type": "code",
        "outputId": "3741b1d1-3665-4c26-d1af-755a9e050134",
        "colab": {
          "base_uri": "https://localhost:8080/",
          "height": 40
        }
      },
      "source": [
        "test_loss = 0\n",
        "accuracy = 0\n",
        "model.eval()\n",
        "with torch.no_grad():\n",
        "    for sentences, labels in test_loader:\n",
        "        sentences, labels = sentences.to(device), labels.to(device)\n",
        "        ps = model(sentences)\n",
        "        test_loss += criterion(ps, labels).item()\n",
        "\n",
        "        # Accuracy\n",
        "        top_p, top_class = ps.topk(1, dim=1)\n",
        "        equals = top_class == labels.view(*top_class.shape)\n",
        "        accuracy += torch.mean(equals.type(torch.FloatTensor))\n",
        "model.train()\n",
        "print(\"Test Loss: {:.3f}.. \".format(test_loss/len(test_loader)),\n",
        "      \"Test Accuracy: {:.3f}\".format(accuracy/len(test_loader)))\n",
        "running_loss = 0"
      ],
      "execution_count": 216,
      "outputs": [
        {
          "output_type": "stream",
          "text": [
            "Test Loss: 1.108..  Test Accuracy: 0.802\n"
          ],
          "name": "stdout"
        }
      ]
    },
    {
      "cell_type": "markdown",
      "metadata": {
        "id": "egc4D90I6C6b",
        "colab_type": "text"
      },
      "source": [
        "## Testing the model with any sentence"
      ]
    },
    {
      "cell_type": "code",
      "metadata": {
        "id": "i_xF0rcL6FRP",
        "colab_type": "code",
        "colab": {}
      },
      "source": [
        "def predict(input_text, print_sentence=True):\n",
        "  labels_dict = {\n",
        "\t\t0 : \"❤️ Loving\",\n",
        "\t\t1 : \"⚽️ Playful\",\n",
        "\t\t2 : \"😄 Happy\",\n",
        "\t\t3 : \"😞 Annoyed\",\n",
        "\t\t4 : \"🍽 Foodie\",\n",
        "\t}\n",
        "\n",
        "  # Convert the input to the model\n",
        "  x_test = np.array([input_text])\n",
        "  X_test_indices = sentences_to_indices(x_test, word_to_index, maxLen)\n",
        "  sentences = torch.tensor(X_test_indices)\n",
        "\n",
        "  # Get the class label\n",
        "  ps = model(sentences)\n",
        "  top_p, top_class = ps.topk(1, dim=1)\n",
        "  label = int(top_class[0][0])\n",
        "\n",
        "  if print_sentence:\n",
        "    print(\"\\nInput Text: \\t\"+ input_text +'\\nEmotion: \\t'+  output[label])\n",
        "\n",
        "  return label"
      ],
      "execution_count": 0,
      "outputs": []
    },
    {
      "cell_type": "code",
      "metadata": {
        "id": "07i1a-R06J2n",
        "colab_type": "code",
        "colab": {
          "base_uri": "https://localhost:8080/",
          "height": 323
        },
        "outputId": "aaa1979f-614a-44de-df6a-b07fcb3ea712"
      },
      "source": [
        "# Change the sentence below to see your prediction. Make sure all the words are in the Glove embeddings.  \n",
        "print(\"------------------------------------\")\n",
        "predict(\"I hate you\")\n",
        "predict(\"I want a pizza\")\n",
        "predict(\"Lets see the match\")\n",
        "predict(\"I love you\")\n",
        "predict(\"This is the best day of my life\")\n",
        "print(\"\\n------------------------------------\")"
      ],
      "execution_count": 306,
      "outputs": [
        {
          "output_type": "stream",
          "text": [
            "------------------------------------\n",
            "\n",
            "Input Text: \tI hate you\n",
            "Emotion: \t😞 Annoyed\n",
            "\n",
            "Input Text: \tI want a pizza\n",
            "Emotion: \t🍽 Foodie\n",
            "\n",
            "Input Text: \tLets see the match\n",
            "Emotion: \t⚽️ Playful\n",
            "\n",
            "Input Text: \tI love you\n",
            "Emotion: \t❤️ Loving\n",
            "\n",
            "Input Text: \tThis is the best day of my life\n",
            "Emotion: \t😄 Happy\n",
            "\n",
            "------------------------------------\n"
          ],
          "name": "stdout"
        }
      ]
    }
  ]
}